{
  "nbformat": 4,
  "nbformat_minor": 0,
  "metadata": {
    "colab": {
      "provenance": [],
      "authorship_tag": "ABX9TyPlr2/XKKOdij8HSQiYom86",
      "include_colab_link": true
    },
    "kernelspec": {
      "name": "python3",
      "display_name": "Python 3"
    },
    "language_info": {
      "name": "python"
    }
  },
  "cells": [
    {
      "cell_type": "markdown",
      "metadata": {
        "id": "view-in-github",
        "colab_type": "text"
      },
      "source": [
        "<a href=\"https://colab.research.google.com/github/luiscardon/Labo-II-2023/blob/main/raices_1.ipynb\" target=\"_parent\"><img src=\"https://colab.research.google.com/assets/colab-badge.svg\" alt=\"Open In Colab\"/></a>"
      ]
    },
    {
      "cell_type": "code",
      "execution_count": 1,
      "metadata": {
        "colab": {
          "base_uri": "https://localhost:8080/"
        },
        "id": "vlTE0_FQYMa5",
        "outputId": "b33f4515-3cbd-4c8b-e9d5-a8d8deb303dd"
      },
      "outputs": [
        {
          "output_type": "stream",
          "name": "stdout",
          "text": [
            "[1.   1.25 1.5  1.75 2.  ]\n",
            "[-13.       -13.296875 -13.125    -12.390625 -11.      ]\n"
          ]
        }
      ],
      "source": [
        "# funciones00.py\n",
        "import numpy as np\n",
        "\n",
        "# =================================\n",
        "# Definicion de la funcion\n",
        "def fun1(x):\n",
        "    return x**3-5*x-9\n",
        "\n",
        "# =================================\n",
        "# Programa principal\n",
        "# Entrada de datos\n",
        "a=1\n",
        "b=2\n",
        "\n",
        "# Impresion\n",
        "rango = np.linspace(a, b, 5)\n",
        "print(rango)\n",
        "print(fun1(rango))\n"
      ]
    },
    {
      "cell_type": "markdown",
      "source": [
        "# Escribiendo un modulo  en colab\n",
        "\n",
        "El siguinte script funciona perfectamente en forma autónoma.\n",
        "Pero la idea aquí es que queremos usar en lo sucesivo este script como módulo, de manera que podamos llamar sus funciones desde otros programas.\n",
        "Por eso es necesario escribir un archivo funciones0.py, como se hace en la primera linea del siguiente script.\n"
      ],
      "metadata": {
        "id": "Q0mlfirWehap"
      }
    },
    {
      "cell_type": "code",
      "source": [
        "%%writefile funciones0.py\n",
        "# funciones0.py\n",
        "import numpy as np\n",
        "\n",
        "def fun1(x):\n",
        "    return x**3-5*x-9\n",
        "\n",
        "def fun2(k,t,v,m,g):\n",
        "    \"\"\"Caida libre con friccion\n",
        "       k coeficiente de friccion\n",
        "       t tiempo\n",
        "       v velocidad inicial\n",
        "       m masa\n",
        "       g aceleracion de la gravedad\"\"\"\n",
        "\n",
        "    return (g*m/k)*(1-np.exp(-k*t/m))-v\n",
        "\n",
        "\n",
        "print(fun1(5))\n",
        "print(fun2(5,3,10,5,9.8))\n"
      ],
      "metadata": {
        "colab": {
          "base_uri": "https://localhost:8080/"
        },
        "id": "XKHlu1DSZtOI",
        "outputId": "e858f12b-5537-45f8-a9a3-a53ef72cbca4"
      },
      "execution_count": 7,
      "outputs": [
        {
          "output_type": "stream",
          "name": "stdout",
          "text": [
            "Overwriting funciones0.py\n"
          ]
        }
      ]
    },
    {
      "cell_type": "markdown",
      "source": [
        "Note que no ejecuta la función. Note también que, picando sobre el símbolo de carpeta a su izquierda, verá que aparece el archivo funciones0.py\n",
        "El comando de la shell cat, lo muestra como si lo hubiera enviado a la terminal, como se hace a continuación."
      ],
      "metadata": {
        "id": "upWFasU_fvH-"
      }
    },
    {
      "cell_type": "code",
      "source": [
        "%cat  funciones0.py"
      ],
      "metadata": {
        "colab": {
          "base_uri": "https://localhost:8080/"
        },
        "id": "ZDtuV2U7fhSG",
        "outputId": "c249313f-5f57-4dbc-f337-43f2b06523ae"
      },
      "execution_count": 8,
      "outputs": [
        {
          "output_type": "stream",
          "name": "stdout",
          "text": [
            "# funciones0.py\n",
            "import numpy as np\n",
            "\n",
            "def fun1(x):\n",
            "    return x**3-5*x-9\n",
            "\n",
            "def fun2(k,t,v,m,g):\n",
            "    \"\"\"Caida libre con friccion\n",
            "       k coeficiente de friccion\n",
            "       t tiempo\n",
            "       v velocidad inicial\n",
            "       m masa\n",
            "       g aceleracion de la gravedad\"\"\"\n",
            "\n",
            "    return (g*m/k)*(1-np.exp(-k*t/m))-v\n",
            "\n",
            "\n",
            "print(fun1(5))\n",
            "print(fun2(5,3,10,5,9.8))\n"
          ]
        }
      ]
    },
    {
      "cell_type": "markdown",
      "source": [
        "# Problema resuleto.\n",
        "Hecha la escritura mostrada en la celda precedente, ahora puede importar funciones0.py a cualquir otro script.\n",
        "Cuidado, el almacenamiento de funciones9.py NO ES PERMANENTE, el archivo desaparecería cuando acabe el runtime de la sesión de colab."
      ],
      "metadata": {
        "id": "7-uZRcV8cbUF"
      }
    },
    {
      "cell_type": "code",
      "source": [
        "# ejemplo1.py\n",
        "import numpy as np\n",
        "import funciones0 as f\n",
        "\n",
        "# =================================\n",
        "# Programa principal\n",
        "# Entrada de datos\n",
        "a=1\n",
        "b=2\n",
        "\n",
        "# Impresion\n",
        "rango = np.linspace(a, b, 5)\n",
        "print(rango)\n",
        "print(f.fun1(rango))\n",
        "\n"
      ],
      "metadata": {
        "colab": {
          "base_uri": "https://localhost:8080/"
        },
        "id": "7DvT-eJ9Z2wp",
        "outputId": "272d2855-590f-44cf-8259-d1da6579834c"
      },
      "execution_count": 9,
      "outputs": [
        {
          "output_type": "stream",
          "name": "stdout",
          "text": [
            "[1.   1.25 1.5  1.75 2.  ]\n",
            "[-13.       -13.296875 -13.125    -12.390625 -11.      ]\n"
          ]
        }
      ]
    },
    {
      "cell_type": "code",
      "source": [
        "# funciones1.py\n",
        "import numpy as np\n",
        "\n",
        "def fun1(x):\n",
        "    return x**3-5*x-9\n",
        "\n",
        "def fun2(k,t,v,m,g):\n",
        "    \"\"\"Caida libre con fricciom\n",
        "       k variable independiente coeficiente de arrastre\n",
        "       parametros:\n",
        "       t   tiempo\n",
        "       v velocidad inicial\n",
        "       m masa\n",
        "       g aceleracion de la gravedad\"\"\"\n",
        "    return (g*m/k)*(1-np.exp(-k*t/m))-v\n",
        "\n",
        "# Programa principal\n",
        "# Se llama a ejecucion las funciones definidas\n",
        "# Este programa se ejecutara como programa autonomo.\n",
        "# Sus funciones tambien pueden ser llamadas desde otro programa\n",
        "\n",
        "if __name__ == \"__main__\":\n",
        "    print(fun1(-10))\n",
        "    print(fun2(5, 3,10,5,9.8))\n"
      ],
      "metadata": {
        "colab": {
          "base_uri": "https://localhost:8080/"
        },
        "id": "QazpGsSqaKQ0",
        "outputId": "a23f3d67-ec04-48f6-9271-0e32f5c1ab2e"
      },
      "execution_count": 10,
      "outputs": [
        {
          "output_type": "stream",
          "name": "stdout",
          "text": [
            "-959\n",
            "-0.6879132700050654\n"
          ]
        }
      ]
    },
    {
      "cell_type": "markdown",
      "source": [
        "# funciones.py\n",
        "Esta es solo una versión mejorada de funciones0.py\n"
      ],
      "metadata": {
        "id": "QNmNXyWAhNqc"
      }
    },
    {
      "cell_type": "code",
      "source": [
        "%%writefile funciones.py\n",
        "# funciones.py\n",
        "import numpy as np\n",
        "\n",
        "# definicion de funciones\n",
        "\n",
        "def fun1(x):\n",
        "    return x**3 - 5*x - 9\n",
        "\n",
        "def fun2(x):\n",
        "    return x**3 - 5*x\n",
        "\n",
        "# Block de prueba\n",
        "\n",
        "def test_fun1():\n",
        "    \"\"\" Compara la salida de la funcion con resultados manuales\n",
        "    calculados para a=-10, b=0, c= 10\"\"\"\n",
        "    tolerancia= 1.E-10\n",
        "    datos=np.array([-10,0,10])\n",
        "    exacta=np.array([-959, -9, 941])\n",
        "    numericos=fun1(datos)\n",
        "    diferencia = abs(numericos-exacta).max()\n",
        "    excito = diferencia < tolerancia\n",
        "    assert excito\n",
        "\n",
        "\n",
        "def test_fun2():\n",
        "    \"\"\" Compara la salida de la funcion con resultados manuales\n",
        "    calculados para a=0,b=-np.sqrt(5),c=np.sqrt(5)\"\"\"\n",
        "    tolerancia= 1.E-15\n",
        "    datos=np.array([-10,0,10])\n",
        "    exacta=np.array([-950, 0, 950])\n",
        "    numericos=fun2(datos)\n",
        "    diferencia = abs(numericos-exacta).max()\n",
        "    excito = diferencia < tolerancia\n",
        "    assert excito\n",
        "\n",
        "\n",
        "# Programa principal\n",
        "# Si se llama a ejecucion el script\n",
        "# se ejecutara como programa autonomo.\n",
        "# Si las funciones no pasan la prueba la\n",
        "# ejecucion  se interrumpe\n",
        "# Si se importa no ejecuta el programa principal\n",
        "#\n",
        "if __name__ == \"__main__\":\n",
        "    test_fun1()\n",
        "    test_fun2()\n",
        "    print(\"Prueba pasada con exito\")\n",
        "    print(\"fun1\", fun1(-10))\n",
        "    print(\"fun2\", fun2(0))\n",
        "    print(\"fun2\", fun2(np.sqrt(5)))\n",
        "    print(\"fun2\", fun2(-np.sqrt(5)))\n"
      ],
      "metadata": {
        "colab": {
          "base_uri": "https://localhost:8080/"
        },
        "id": "po-jZTedg3OE",
        "outputId": "e2efb66e-73e6-4ac4-958a-eb900a07b10e"
      },
      "execution_count": 12,
      "outputs": [
        {
          "output_type": "stream",
          "name": "stdout",
          "text": [
            "Writing funciones.py\n"
          ]
        }
      ]
    },
    {
      "cell_type": "code",
      "source": [
        "# ploteoBasico.py\n",
        "import numpy as np\n",
        "import matplotlib.pyplot as plt\n",
        "import funciones as f\n",
        "\n",
        "# Dato: intervalo de calculo\n",
        "a=1\n",
        "b=10\n",
        "# Crea un rango de valores de x y de  y\n",
        "x = np.linspace(a, b, 1000)  # abscisas discretas\n",
        "y = f.fun1(x)                # coordenadas discretas\n",
        "# Ploteo simple de los datos\n",
        "plt.plot(x,y)\n",
        "plt.show()\n"
      ],
      "metadata": {
        "colab": {
          "base_uri": "https://localhost:8080/",
          "height": 430
        },
        "id": "kNXNiMH2aRly",
        "outputId": "50af23b9-6a0f-4d57-abb1-4c6b71e9bb3c"
      },
      "execution_count": 13,
      "outputs": [
        {
          "output_type": "display_data",
          "data": {
            "text/plain": [
              "<Figure size 640x480 with 1 Axes>"
            ],
            "image/png": "[encoded data removed]"
          },
          "metadata": {}
        }
      ]
    },
    {
      "cell_type": "code",
      "source": [
        "# ploteoIntermedio.py\n",
        "import numpy as np\n",
        "import matplotlib.pyplot as plt\n",
        "import funciones as f\n",
        "\n",
        "\n",
        "# Intervalo de calculo\n",
        "a=-5\n",
        "b=5\n",
        "# Crea un rango de valores de x y de  y\n",
        "x = np.linspace(a, b, 50)  # abscisas discretas\n",
        "y = f.fun1(x)              # coordenadas discretas\n",
        "\n",
        "# Ploteo decorado de los datos\n",
        "plt.xlabel('x')\n",
        "plt.ylabel('y')\n",
        "plt.title('fun1')\n",
        "plt.axhline(y=0, c=\"blue\")\n",
        "plt.plot(x,y,'-ob', label=\"f(x)=x**3-5*x-9\")\n",
        "plt.legend()\n",
        "plt.savefig('fig-fun1.eps')\n",
        "plt.show()\n"
      ],
      "metadata": {
        "colab": {
          "base_uri": "https://localhost:8080/",
          "height": 509
        },
        "id": "gZHzsQULaTEi",
        "outputId": "971a4a86-8ce8-41bd-84ab-3e84676e5f77"
      },
      "execution_count": 14,
      "outputs": [
        {
          "output_type": "stream",
          "name": "stderr",
          "text": [
            "WARNING:matplotlib.backends.backend_ps:The PostScript backend does not support transparency; partially transparent artists will be rendered opaque.\n"
          ]
        },
        {
          "output_type": "display_data",
          "data": {
            "text/plain": [
              "<Figure size 640x480 with 1 Axes>"
            ],
            "image/png": "[encoded data removed]"
          },
          "metadata": {}
        }
      ]
    },
    {
      "cell_type": "code",
      "source": [
        "# miploteo.py\n",
        "import numpy as np\n",
        "import matplotlib.pyplot as plt\n",
        "import funciones as f\n",
        "\n",
        "def miploteo(ff, a,b,n, titulo,leyenda,archivo):\n",
        "    \"\"\"Funcion de ploteo\n",
        "    ff funcion a plotear\n",
        "    x,y valores discretos de la funcion\n",
        "    a,b intervalo\n",
        "    titulo titulo o nombre de la funcion\n",
        "    leyenda: la funcion a grafica\n",
        "    archivo: nombre del archivo a graficar\n",
        "    \"\"\"\n",
        "    # Ploteo decorado de los datos\n",
        "    # Crea un rango de valores de x y de  y\n",
        "    x = np.linspace(a, b, n)  # abscisas discretas\n",
        "    y = ff(x)                # coordenadas discretas\n",
        "\n",
        "    plt.xlabel('x')\n",
        "    plt.ylabel('y')\n",
        "    plt.title(titulo)\n",
        "    plt.axhline(y=0, c=\"blue\")\n",
        "    plt.plot(x,y,'-ob', label=leyenda)\n",
        "    plt.legend()\n",
        "    plt.savefig(archivo)\n",
        "    plt.show()\n",
        "\n",
        "\n",
        "if __name__ == \"__main__\":\n",
        "\n",
        "    miploteo(f.fun1,-10,10,50,\"fun1\",\"t=x^3 -5x-9\",\"fig-fun1-test\")\n"
      ],
      "metadata": {
        "colab": {
          "base_uri": "https://localhost:8080/",
          "height": 472
        },
        "id": "SNVqzEGEag4Y",
        "outputId": "52567c2a-9f31-42a7-ffa1-45d6d7181927"
      },
      "execution_count": 15,
      "outputs": [
        {
          "output_type": "display_data",
          "data": {
            "text/plain": [
              "<Figure size 640x480 with 1 Axes>"
            ],
            "image/png": "[encoded data removed]"
          },
          "metadata": {}
        }
      ]
    },
    {
      "cell_type": "code",
      "source": [
        "# biseccion-1.py\n",
        "import matplotlib.pyplot as plt\n",
        "import numpy as np\n",
        "import funciones as f\n",
        "\n",
        "# Metodo de la biseccion\n",
        "def biseccion(a,b,tol):\n",
        "    \"\"\"Metodo de la biseccion\"\"\"\n",
        "    paso = 1\n",
        "    condicion = True\n",
        "    while condicion:\n",
        "        c = (a + b)/2\n",
        "        print('Iteracion %d, c = %0.6f and f.fun1(c) = %0.6f' % (paso, c, f.fun1(c)))\n",
        "\n",
        "        if f.fun1(a) * f.fun1(c) < 0:\n",
        "            b = c\n",
        "        else:\n",
        "            a = c\n",
        "\n",
        "        paso = paso + 1\n",
        "        condicion = abs(f.fun1(c)) > tol\n",
        "\n",
        "    print('\\nLa raiz es: %0.8f' % c)\n",
        "\n",
        "# Programa principal\n",
        "print(\"#biseccion-1.py:\")\n",
        "\"\"\"\n",
        "# Entrada de datos\n",
        "a = input('Intervalo, extremo  a: ')\n",
        "b = input('Intervalo, extremo b: ')\n",
        "tol = input('Tolerancia: ')\n",
        "\n",
        "# Convecion a flotantes\n",
        "a = float(a)\n",
        "b = float(b)\n",
        "tol = float(tol)\n",
        "\"\"\"\n",
        "a=1\n",
        "b=5\n",
        "tol=1.E-6\n",
        "\n",
        "\n",
        "#Nota: Redaccion alternativa\n",
        "# a = float(input('Intervalo, extremo  a: '))\n",
        "# b = float(input('Intervalo, extremo b: '))\n",
        "# tol = float(input('Tolerancia: '))\n",
        "\n",
        "\n",
        "# Chequeo del intervalo inicial\n",
        "if f.fun1(a) * f.fun1(b) > 0.0:\n",
        "    print('El intervalo dado no contiene la raiz o contiene un numero par de ellas.')\n",
        "    print('Eliga un nuevo intervalo.')\n",
        "else:\n",
        "    biseccion(a,b,tol)\n"
      ],
      "metadata": {
        "colab": {
          "base_uri": "https://localhost:8080/"
        },
        "id": "cqYLkWXKaiiU",
        "outputId": "e4719fec-09f6-47f3-ebc3-e0f794fdf892"
      },
      "execution_count": 16,
      "outputs": [
        {
          "output_type": "stream",
          "name": "stdout",
          "text": [
            "#biseccion-1.py:\n",
            "Iteracion 1, c = 3.000000 and f.fun1(c) = 3.000000\n",
            "Iteracion 2, c = 2.000000 and f.fun1(c) = -11.000000\n",
            "Iteracion 3, c = 2.500000 and f.fun1(c) = -5.875000\n",
            "Iteracion 4, c = 2.750000 and f.fun1(c) = -1.953125\n",
            "Iteracion 5, c = 2.875000 and f.fun1(c) = 0.388672\n",
            "Iteracion 6, c = 2.812500 and f.fun1(c) = -0.815186\n",
            "Iteracion 7, c = 2.843750 and f.fun1(c) = -0.221588\n",
            "Iteracion 8, c = 2.859375 and f.fun1(c) = 0.081448\n",
            "Iteracion 9, c = 2.851562 and f.fun1(c) = -0.070592\n",
            "Iteracion 10, c = 2.855469 and f.fun1(c) = 0.005297\n",
            "Iteracion 11, c = 2.853516 and f.fun1(c) = -0.032680\n",
            "Iteracion 12, c = 2.854492 and f.fun1(c) = -0.013700\n",
            "Iteracion 13, c = 2.854980 and f.fun1(c) = -0.004204\n",
            "Iteracion 14, c = 2.855225 and f.fun1(c) = 0.000546\n",
            "Iteracion 15, c = 2.855103 and f.fun1(c) = -0.001829\n",
            "Iteracion 16, c = 2.855164 and f.fun1(c) = -0.000641\n",
            "Iteracion 17, c = 2.855194 and f.fun1(c) = -0.000048\n",
            "Iteracion 18, c = 2.855209 and f.fun1(c) = 0.000249\n",
            "Iteracion 19, c = 2.855202 and f.fun1(c) = 0.000101\n",
            "Iteracion 20, c = 2.855198 and f.fun1(c) = 0.000027\n",
            "Iteracion 21, c = 2.855196 and f.fun1(c) = -0.000011\n",
            "Iteracion 22, c = 2.855197 and f.fun1(c) = 0.000008\n",
            "Iteracion 23, c = 2.855196 and f.fun1(c) = -0.000001\n",
            "Iteracion 24, c = 2.855197 and f.fun1(c) = 0.000003\n",
            "Iteracion 25, c = 2.855197 and f.fun1(c) = 0.000001\n",
            "Iteracion 26, c = 2.855197 and f.fun1(c) = -0.000000\n",
            "\n",
            "La raiz es: 2.85519654\n"
          ]
        }
      ]
    },
    {
      "cell_type": "code",
      "source": [
        "# pruebabisec-1.py\n",
        "import matplotlib.pyplot as plt\n",
        "import numpy as np\n",
        "import funciones as f\n",
        "\n",
        "# Metodo de la biseccion\n",
        "def biseccion(ff,a,b,tol):\n",
        "    \"\"\"Metodo de la biseccion\"\"\"\n",
        "    paso = 1\n",
        "    condicion = True\n",
        "    while condicion:\n",
        "        c = (a + b)/2\n",
        "        #print('Iteracion %d, c = %0.6f and ff(c) = %0.6f' % (paso, c, ff(c)))\n",
        "\n",
        "        if ff(a) * ff(c) < 0:\n",
        "            b = c\n",
        "        else:\n",
        "            a = c\n",
        "\n",
        "        paso = paso + 1\n",
        "        #condicion =  abs(a-c)>tol #abs(ff(c)) > tol\n",
        "        condicion = abs(ff(c)) > tol\n",
        "\n",
        "    #print('\\nLa raiz es: %0.8f' % c)\n",
        "    return c\n",
        "\n",
        "def test_biseccion():\n",
        "    \"\"\" Compara la raiz calculada por biseccion con la raiz exacta\n",
        "        para tres funciones\"\"\"\n",
        "    tolerancia = 1.E-5\n",
        "    numericos=np.array([biseccion(f.fun1,1,5,1.E-15),biseccion(f.fun2,-5,-0.9,1.E-10)])\n",
        "    exacta=np.array([2.85519,-np.sqrt(5)])\n",
        "    diferencia = abs(numericos-exacta).max()\n",
        "    excito = diferencia < tolerancia\n",
        "    assert excito\n",
        "\n",
        "\n",
        "if __name__ == \"__main__\":\n",
        "\n",
        "    test_biseccion()\n",
        "    print(biseccion(f.fun1,1,5,1.E-10))\n",
        "    print(biseccion(f.fun2,-5,-0.9,1.E-10))\n",
        "\n"
      ],
      "metadata": {
        "colab": {
          "base_uri": "https://localhost:8080/"
        },
        "id": "7EXBhuMxbOI1",
        "outputId": "c220dfcc-f29d-4d64-c082-38e3a52e8fff"
      },
      "execution_count": 17,
      "outputs": [
        {
          "output_type": "stream",
          "name": "stdout",
          "text": [
            "2.855196539319877\n",
            "-2.2360679775036263\n"
          ]
        }
      ]
    }
  ]
}