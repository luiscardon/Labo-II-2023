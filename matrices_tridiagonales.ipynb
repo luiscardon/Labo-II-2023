{
  "nbformat": 4,
  "nbformat_minor": 0,
  "metadata": {
    "colab": {
      "provenance": [],
      "toc_visible": true,
      "authorship_tag": "ABX9TyMHaQL5rtHo/jRqE55DSJdD",
      "include_colab_link": true
    },
    "kernelspec": {
      "name": "python3",
      "display_name": "Python 3"
    },
    "language_info": {
      "name": "python"
    }
  },
  "cells": [
    {
      "cell_type": "markdown",
      "metadata": {
        "id": "view-in-github",
        "colab_type": "text"
      },
      "source": [
        "<a href=\"https://colab.research.google.com/github/luiscardon/Labo-II-2023/blob/main/matrices_tridiagonales.ipynb\" target=\"_parent\"><img src=\"https://colab.research.google.com/assets/colab-badge.svg\" alt=\"Open In Colab\"/></a>"
      ]
    },
    {
      "cell_type": "code",
      "source": [],
      "metadata": {
        "id": "6yMvNIy6_kjA"
      },
      "execution_count": null,
      "outputs": []
    },
    {
      "cell_type": "markdown",
      "source": [
        "# Matrices estructuradas resultantes del método de diferencias finitas.\n",
        "\n",
        "En el método de diferencias finitas aparecen matricesde discretización  altamente estructuradas, tridiagonales, pentadiagonales, diagonales por bloque etc. cuya estructura\n",
        "facilita su resolución eficiente.\n",
        "\n",
        "En los casos mas sencillos, la matriz es simétrica y definida positiva y diagonal dominante.\n",
        "Lo primero facilita aún más la resolución.  \n",
        "Lo segundo asegura que se cumplen las condiciones necesaria para encontrar la solución.\n",
        "\n",
        "Aqui nos concentrarems en las distintas formas de crear estas matrices  en el caso 1D.\n",
        "\n",
        "Por supuesto, tambien se pueden crear asignado valores elemento a elemento como ya se ha hecho.\n"
      ],
      "metadata": {
        "id": "GBhewDIo-Y_u"
      }
    },
    {
      "cell_type": "markdown",
      "source": [
        "## Sistemas algebraicos  con matrices **tridiagonales**\n",
        "\n",
        "Varias formas de crear y resolver sistemas de ecuaciones\n",
        "Ax=b con A una  matriz tridiagonal.\n",
        "\n",
        "Algunos de estos métodos podrían servir para crear matrices\n",
        "pentadiagonales que surgen de métodos de diferencias finitas.\n",
        "\n",
        "Cuando el sistema Ax=b resulta de aplicar el método de diferencias finitas,\n",
        "por ejemplo a la ecuación de Poisson con condiciones de Dirichlet a ambos\n",
        "extremos, el vector de incógnitas x representa  los valores nodales de la\n",
        "variable  dependiente en el interior del dominio de cálculo, excluyendo los\n",
        "nodos de borde.\n",
        "Esto debe tenerse en cuenta cuando se trata de representar graficamente\n",
        "los resultados del problema."
      ],
      "metadata": {
        "id": "6V8CPZ0GmKMJ"
      }
    },
    {
      "cell_type": "code",
      "execution_count": 1,
      "metadata": {
        "id": "PULi7IttmFmm"
      },
      "outputs": [],
      "source": [
        "import matplotlib.pyplot as plt\n",
        "import numpy as np\n",
        "\n",
        "# ==================================================\n",
        "# usamos estas opciones para que la impresión simple\n",
        "# de las matrices,  sin formato, queden más prolijas.\n",
        "# La segunda opción elimina la forma científica de impresión\n",
        "# cuando se trata de números muy pequeños.\n",
        "np.set_printoptions(precision=2)\n",
        "np.set_printoptions(suppress=True)\n",
        "\n",
        "# ===================================================\n"
      ]
    },
    {
      "cell_type": "markdown",
      "source": [
        "# Una matriz triadiagonal como una matriz de Toeplitz.\n",
        "\n",
        "Una matriz de Toeplitz es una matriz\n",
        "en la que  que cada diagonal descendente de izquierda a derecha es constante https://en.wikipedia.org/wiki/Toeplitz_matrix\n",
        "\n",
        "Los valores de los elementos de cada diagonal son iguales a los valores de los elementos correspondientes de la primera fila para las diagonales superiores y de  primera columna de la matriz para las diagonales inferiores.\n",
        "\n",
        "\n",
        "scypi.linalg dispone funciones para crear matrices de este tipo y para resolver sistemas algebraicos con esta matriz de coeficientes.\n",
        "\n",
        "La función scypy.linal.toepliz crea la matriz correspondiente en formato matricial estandar.\n",
        "\n",
        "Se puede resolsover de varias maneras:\n",
        "scypy.linal.solve_toeplitz, o con cualquier procedimeineto general.\n",
        "https://docs.scipy.org/doc/scipy/reference/generated/scipy.linalg.solve_toeplitz.html#scipy.linalg.solve_toeplitz\n",
        "\n",
        "El algoritmo que usa scypy.linal.solve_toeplitz es mas raṕido que los métodos generales pero puede ser más inestable,\n",
        "\n",
        "\n",
        "\n"
      ],
      "metadata": {
        "id": "ajYr78jbncSd"
      }
    },
    {
      "cell_type": "code",
      "source": [
        "# ===================================================\n",
        "from scipy.linalg import  solve, toeplitz, solve_toeplitz, inv\n",
        "\n",
        "n=9\n",
        "b=np.zeros(n)\n",
        "b[0]=1\n",
        "b[n-1]=-1\n",
        "print(\"b\", b)\n",
        "#===================================================\n",
        "# Toeplitz\n",
        "# Una matriz de Toepliz es una matriz a bandas o diagonales,\n",
        "# cuyas diagonales son iguales a los valores en la primera fila y columna\n",
        "C=np.zeros(n)\n",
        "R=np.zeros(n)\n",
        "\n",
        "C[0]=-2\n",
        "C[1]=1\n",
        "R[0]=-2\n",
        "R[1]=1\n",
        "\n",
        "X=toeplitz(C,R)\n",
        "print(\"X\")\n",
        "print(X)\n",
        "XX=solve_toeplitz((C,R),b)\n",
        "print(XX)\n",
        "plt.plot(XX,\"ob-\")\n",
        "# OK.\n"
      ],
      "metadata": {
        "colab": {
          "base_uri": "https://localhost:8080/",
          "height": 656
        },
        "id": "O_LdioO4pSf6",
        "outputId": "5a8ab31f-dddc-47ef-a5ab-cefb3d16b553"
      },
      "execution_count": 9,
      "outputs": [
        {
          "output_type": "stream",
          "name": "stdout",
          "text": [
            "b [ 1.  0.  0.  0.  0.  0.  0.  0. -1.]\n",
            "X\n",
            "[[-2.  1.  0.  0.  0.  0.  0.  0.  0.]\n",
            " [ 1. -2.  1.  0.  0.  0.  0.  0.  0.]\n",
            " [ 0.  1. -2.  1.  0.  0.  0.  0.  0.]\n",
            " [ 0.  0.  1. -2.  1.  0.  0.  0.  0.]\n",
            " [ 0.  0.  0.  1. -2.  1.  0.  0.  0.]\n",
            " [ 0.  0.  0.  0.  1. -2.  1.  0.  0.]\n",
            " [ 0.  0.  0.  0.  0.  1. -2.  1.  0.]\n",
            " [ 0.  0.  0.  0.  0.  0.  1. -2.  1.]\n",
            " [ 0.  0.  0.  0.  0.  0.  0.  1. -2.]]\n",
            "[-0.8 -0.6 -0.4 -0.2  0.   0.2  0.4  0.6  0.8]\n"
          ]
        },
        {
          "output_type": "execute_result",
          "data": {
            "text/plain": [
              "[<matplotlib.lines.Line2D at 0x7d7d25a98c70>]"
            ]
          },
          "metadata": {},
          "execution_count": 9
        },
        {
          "output_type": "display_data",
          "data": {
            "text/plain": [
              "<Figure size 640x480 with 1 Axes>"
            ],
            "image/png": "[encoded data removed]"
          },
          "metadata": {}
        }
      ]
    },
    {
      "cell_type": "markdown",
      "source": [
        "Solución con métodos generales"
      ],
      "metadata": {
        "id": "xerWBLUNnZQ6"
      }
    },
    {
      "cell_type": "markdown",
      "source": [
        "# Métodos generales\n",
        "\n"
      ],
      "metadata": {
        "id": "ycf839YltRA6"
      }
    },
    {
      "cell_type": "markdown",
      "source": [
        "Con linalg.solve.\n",
        "\n",
        "Aparte de los métodos orientados a resolver sistemas con matrices estructuradas como en nuestro caso, linalg.solve es el método más rápido.\n",
        "\n",
        "Pero cuidado, en general, los métodos directos no son aconsejables si la matriz es muy grande."
      ],
      "metadata": {
        "id": "SVa7hev_t2TB"
      }
    },
    {
      "cell_type": "code",
      "source": [
        "XX=solve(X,b)\n",
        "print(XX)\n"
      ],
      "metadata": {
        "colab": {
          "base_uri": "https://localhost:8080/"
        },
        "id": "P4cvSo-JseIO",
        "outputId": "1f186816-4960-4311-b598-5aa8dcbffec7"
      },
      "execution_count": 7,
      "outputs": [
        {
          "output_type": "stream",
          "name": "stdout",
          "text": [
            "[-0.8 -0.6 -0.4 -0.2  0.   0.2  0.4  0.6  0.8]\n"
          ]
        }
      ]
    },
    {
      "cell_type": "markdown",
      "source": [
        "Mediante inversión de matriz.\n",
        "\n",
        "Python permite escribir la solución por inversion de matriz de varias maneras."
      ],
      "metadata": {
        "id": "kxng6586uFbh"
      }
    },
    {
      "cell_type": "markdown",
      "source": [
        "Sea\n",
        "\\begin{equation}\n",
        "Ax=b\n",
        "\\end{equation}\n",
        "\n",
        "\\begin{equation}𝑥=𝐴^{-1}𝐴𝑥=𝐴^{−1}𝑏\\end{equation}\n",
        " \\begin{equation}\n",
        "x=A^{-1}b\n",
        "\\end{equation}\n",
        "\n",
        "Como en python los arreglos unidimensionales son filas, debe transponerse $b$ para efectuar el producto interno matriz vector con el método dot"
      ],
      "metadata": {
        "id": "_WAQLm-_yH9n"
      }
    },
    {
      "cell_type": "code",
      "source": [
        "X_inv = np.linalg.inv(X)\n",
        "x=X_inv.dot(b.T)\n",
        "print(x)"
      ],
      "metadata": {
        "colab": {
          "base_uri": "https://localhost:8080/"
        },
        "id": "xBfJ9NFhzZhr",
        "outputId": "df4a432f-fdd5-4f9a-dcc3-98fd50f7f108"
      },
      "execution_count": 18,
      "outputs": [
        {
          "output_type": "stream",
          "name": "stdout",
          "text": [
            "[-0.8 -0.6 -0.4 -0.2  0.   0.2  0.4  0.6  0.8]\n"
          ]
        }
      ]
    },
    {
      "cell_type": "markdown",
      "source": [
        "Observe que también se puede escribir.\n",
        "Aqui se usa la función dot"
      ],
      "metadata": {
        "id": "CPOsT4XjzxFR"
      }
    },
    {
      "cell_type": "code",
      "source": [
        "X_inv = np.linalg.inv(X)\n",
        "\n",
        "x = np.dot(X_inv, b)\n",
        "print(x)\n"
      ],
      "metadata": {
        "colab": {
          "base_uri": "https://localhost:8080/"
        },
        "id": "RNuWKlPhuJqi",
        "outputId": "ac468638-d4ca-4e8c-8650-10bb72cdddce"
      },
      "execution_count": 11,
      "outputs": [
        {
          "output_type": "stream",
          "name": "stdout",
          "text": [
            "[-0.8 -0.6 -0.4 -0.2  0.   0.2  0.4  0.6  0.8]\n"
          ]
        }
      ]
    },
    {
      "cell_type": "markdown",
      "source": [
        "Chequeo\n",
        "\\begin{equation}\n",
        "x=A^{-1}b ;   \\quad \\quad \\quad  Ax-b = A (A^{-1}b) - b=\n",
        "(A A^{-1})b - b= Ib - b = b-b=0\\end{equation}"
      ],
      "metadata": {
        "id": "ODx3Etyt1SYC"
      }
    },
    {
      "cell_type": "code",
      "source": [
        "x=X_inv.dot(b.T)\n",
        "print(x)\n",
        "\n",
        "# Chequeo\n",
        "a=X.dot(inv(X).dot(b)) -b\n",
        "print (a)"
      ],
      "metadata": {
        "colab": {
          "base_uri": "https://localhost:8080/"
        },
        "id": "80e0DN2FvfB7",
        "outputId": "2511a92a-0413-4b55-c23a-6bd127251b0d"
      },
      "execution_count": 15,
      "outputs": [
        {
          "output_type": "stream",
          "name": "stdout",
          "text": [
            "[-0.8 -0.6 -0.4 -0.2  0.   0.2  0.4  0.6  0.8]\n",
            "[ 0. -0.  0.  0. -0.  0.  0.  0.  0.]\n"
          ]
        }
      ]
    },
    {
      "cell_type": "markdown",
      "source": [
        "# Creación de matrices diagonales con numpy\n",
        "\n",
        " [np.diag](https://numpy.org/doc/stable/reference/generated/numpy.diag.html) extrae o construye un arreglo diagonal.\n",
        "\n",
        " numpy.diag(v, k=0)\n",
        " k es el ofset de la diagonal\n",
        "\n",
        " Las diagonales deben tener el número correcto de elementos. La función se da cuenta del número correcto de elementos de la matriz.\n"
      ],
      "metadata": {
        "id": "DyCbs4cO8wfw"
      }
    },
    {
      "cell_type": "code",
      "source": [
        "\n",
        "AA=np.full((n,),-2)\n",
        "print(\"AA\", AA, AA.shape)\n",
        "AAA=np.diag(AA)\n",
        "print(AAA, AAA.shape)\n",
        "\n",
        "BB=np.full((n-1,),1)\n",
        "print(\"BB\", BB, BB.shape)\n",
        "BBB=np.diag(BB,1)\n",
        "print(BBB,BBB.shape)\n",
        "\n",
        "\n",
        "CC=np.full((n-1,),1)\n",
        "CCC=np.diag(CC,-1)\n",
        "print(CCC,CCC.shape)\n",
        "\n",
        "D = np.diag(AA) + np.diag(BB, 1) + np.diag(CC, -1)\n",
        "\n",
        "print(\"D\")\n",
        "print(D)\n",
        "XXX=solve(D,b)\n",
        "print(XXX)\n",
        "#OK"
      ],
      "metadata": {
        "id": "HGFS--C83b2s"
      },
      "execution_count": null,
      "outputs": []
    },
    {
      "cell_type": "markdown",
      "source": [
        "# Librería sparse\n",
        "\n",
        "La librería [sparse](https://docs.scipy.org/doc/scipy/reference/sparse.html) dispone de varias funciones y métodos para trabajar con matrices ralas o dispersas.\n",
        "\n",
        "Dentro de las matrices ralas (pocos coeficientes no cero) o dispersas (coeficientes dispersos), nombres que se usan para el mismos conecpto,  se pueden considerar algunas matrices estructuradas como las que nos ocupan aqui.\n",
        "\n",
        "En las matrices ralas en general, la posición de los coeficientes no ceros no está dada por la estructura.\n",
        "\n"
      ],
      "metadata": {
        "id": "qo-7a3kj6_sK"
      }
    },
    {
      "cell_type": "markdown",
      "source": [
        "Construcción de matrices diagonales y extracción de diagonales con\n",
        "la función [diags](https://docs.scipy.org/doc/scipy/reference/generated/scipy.sparse.diags.html#scipy.sparse.diags)\n",
        "\n"
      ],
      "metadata": {
        "id": "AoVBskqt7ls1"
      }
    },
    {
      "cell_type": "markdown",
      "source": [
        "# Creación o extracción de diagonales con diags"
      ],
      "metadata": {
        "id": "YW5FVEGJ32vv"
      }
    },
    {
      "cell_type": "markdown",
      "source": [
        "scipy.sparse.diags\n",
        "\n",
        "El primer arreglo de diags se refiere a los valores de los coeficientes,\n",
        "el sugundo arreglo indica el offset (corrimiento, desfasaje...) con respecto a la diagonal principal:\n",
        "0= diagonal principal, $<0$ diagonales inferiores, $>0$ diagonales superiores.\n",
        "Se comienza con el offset de la diagonal inferior con mayor ofset.\n"
      ],
      "metadata": {
        "id": "Pta3Gz9n9_Mt"
      }
    },
    {
      "cell_type": "code",
      "source": [
        "\n",
        "Z= diags([1, -2,1],[-1 ,0,1],shape=(9,9)).toarray()\n",
        "print(\"Z\")\n",
        "print(Z)\n"
      ],
      "metadata": {
        "id": "Eq1OFXxK4JNa"
      },
      "execution_count": null,
      "outputs": []
    },
    {
      "cell_type": "markdown",
      "source": [
        "# Matrices a  bandas.\n",
        "\n",
        "Una matriz banda es una matriz dispersa cuyas entradas distintas de cero están confinadas a una banda diagonal, que comprende la diagonal principal y cero o más diagonales a cada lado.\n",
        "\n",
        "Las matrices tridiagonales, pentadiagonales, toeplitz incompletas, etc. son matrices a bandas.\n",
        "scipy.sparse.linalg dispone de la función\n",
        " [solve_banded](https://docs.scipy.org/doc/scipy/reference/generated/scipy.linalg.solve_banded.html) para resolver sistemas de ecuaciónes con matriz de coeficientes  a bandas.\n",
        "\n",
        " Rquiere que las diagonales se provean en las filas de\n",
        " una matriz que debe tener tantas como diagonales.\n",
        " Se empieza por la diagonal superior más alejada de la diagonal principal.\n",
        " Las diagonales superiores deben ir precedidas de ceros, tantos como el offset o corrimiento con\n",
        " respecto a la diagonal principal.\n",
        " Las diagonales inferiores, deben terminar con tantos ceros como el offset.\n",
        " El primer argumento es una shape (*,*) que indica cuantas diagonales\n",
        " superiores e inferiores tiene la matriz.\n"
      ],
      "metadata": {
        "id": "XMAnQxjk4apQ"
      }
    },
    {
      "cell_type": "code",
      "source": [
        "# Se crea la matriz tridiagonal con formato de banda reueqrido por solve_banded\n",
        "bb=np.full((n),1)\n",
        "bb[0]=0\n",
        "print(\"bb\",bb)\n",
        "aa=np.full((n),-2)\n",
        "cc=np.full((n),1)\n",
        "cc[n-1]=0\n",
        "ab=np.concatenate((bb,aa,cc)).reshape((3,9))\n",
        "print(\"ab\")\n",
        "print(ab)\n",
        "\n",
        "x= solve_banded((1,1),ab, b)\n",
        "print (x)\n",
        "#OK"
      ],
      "metadata": {
        "id": "5SXIHHB64KsZ"
      },
      "execution_count": null,
      "outputs": []
    }
  ]
}