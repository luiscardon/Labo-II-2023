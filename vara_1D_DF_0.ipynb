{
  "nbformat": 4,
  "nbformat_minor": 0,
  "metadata": {
    "colab": {
      "provenance": [],
      "authorship_tag": "ABX9TyOtcfS5EithPgO9WO+jNkjr",
      "include_colab_link": true
    },
    "kernelspec": {
      "name": "python3",
      "display_name": "Python 3"
    },
    "language_info": {
      "name": "python"
    }
  },
  "cells": [
    {
      "cell_type": "markdown",
      "metadata": {
        "id": "view-in-github",
        "colab_type": "text"
      },
      "source": [
        "<a href=\"https://colab.research.google.com/github/luiscardon/Labo-II-2023/blob/main/vara_1D_DF_0.ipynb\" target=\"_parent\"><img src=\"https://colab.research.google.com/assets/colab-badge.svg\" alt=\"Open In Colab\"/></a>"
      ]
    },
    {
      "cell_type": "markdown",
      "source": [
        "# **vara-1D-DF-0.ipynb**\n",
        "\n",
        "El programa *vara-1D-DF-0.ipypy* resuelve la ecuación de Poisson en una dimensión sujeta a condiciones de borde de Dirichlet.\n",
        "\\begin{equation}\n",
        "\\frac{d^2T}{dx^2} + S=0\n",
        "\\end{equation}\n",
        "con\n",
        "\\begin{equation}\n",
        "T(x=0)=T_0 \\quad \\quad \\quad T(x=L)=T_L\n",
        "\\end{equation}\n",
        "\n",
        "\n",
        "Se ha creado con propósito educativo. Se ha hecho énfasis en ir incorporando sucesivamente los distintos cálculos necesarios aprovechando la capacidad del notebook de ir ejecutándolos, probándolos y comentándolos paso a paso, de la misma manera que un programador debería proceder para crear su propio programa, paso a paso y siempre sobre seguro.\n",
        "\n",
        "Las partes o tareas se han  programado como funciones y   se ha ejecutado y probado inmediatamete.\n",
        "\n",
        "El programa no es particularmpente **pytónico**, y se ha programado como se pudiera haberlo hecho en C. En los siguientes ejemplos veremos como aprovechar al máximo las capacidades de python.\n",
        "\n",
        "Una descripción de la estructura del programa (que es independiente de como se lo haya programado)  se puede leer  en el libro Métodos Numéricos... de Cardon\n",
        "\n",
        "Este modo de trabajo, hacer y probar, debe usarse siempre.\n",
        "\n",
        "El programa completo se dispone bajo el mismpo nombre en la plataforma."
      ],
      "metadata": {
        "id": "bOH2pHj4dal7"
      }
    },
    {
      "cell_type": "code",
      "execution_count": null,
      "metadata": {
        "id": "93nJ9UN8dZ6p"
      },
      "outputs": [],
      "source": [
        "import numpy as np\n",
        "import matplotlib.pyplot as plt\n"
      ]
    },
    {
      "cell_type": "markdown",
      "source": [
        "# Generación de la red de discretización\n",
        "\n",
        "\n",
        "Empezaremos definiendo:\n",
        "\n",
        "N:      Número total de nodos\n",
        "\n",
        "L:      Longitud del dominio de cálculo\n",
        "\n",
        "dx:     paso de la discretización\n",
        "\n",
        "T:      variable dependiente asociada a cada nodo\n",
        "\n",
        "T[0]:   primer elemento del vector T\n",
        "\n",
        "T[N-1]: último elemento del vector T\n",
        "\n",
        "Crearemos una función para generar un vector con las posiciones de los nodos correspondientes a una red uniforme"
      ],
      "metadata": {
        "id": "dqxdvOOuMMkz"
      }
    },
    {
      "cell_type": "code",
      "source": [
        "N=11\n",
        "L=1\n",
        "dx=L/(N-1)\n",
        "print(N,L,dx)"
      ],
      "metadata": {
        "colab": {
          "base_uri": "https://localhost:8080/"
        },
        "id": "hX84giN7Mswh",
        "outputId": "22acf66a-e3c7-4e04-e787-257588a3b4ee"
      },
      "execution_count": null,
      "outputs": [
        {
          "output_type": "stream",
          "name": "stdout",
          "text": [
            "11 1 0.1\n"
          ]
        }
      ]
    },
    {
      "cell_type": "code",
      "source": [
        "def genera_red(N,dx):\n",
        "    '''Calcula la posición de los nodos para una\n",
        "       red uniforme\n",
        "       N= numero total de nodos\n",
        "       '''\n",
        "    x=[]\n",
        "    for i in range(N):\n",
        "      x.append(i*dx)\n",
        "    return(x)\n",
        "x=genera_red(N,dx)\n",
        "print(\"x\",x)"
      ],
      "metadata": {
        "colab": {
          "base_uri": "https://localhost:8080/"
        },
        "id": "gulkCn_LMeRK",
        "outputId": "287ffb77-6656-4118-a089-0783f22bdc05"
      },
      "execution_count": null,
      "outputs": [
        {
          "output_type": "stream",
          "name": "stdout",
          "text": [
            "x [0.0, 0.1, 0.2, 0.30000000000000004, 0.4, 0.5, 0.6000000000000001, 0.7000000000000001, 0.8, 0.9, 1.0]\n"
          ]
        }
      ]
    },
    {
      "cell_type": "markdown",
      "source": [
        "Crearemos dos funciones para asignar valores a la conductividad y a la fuente.\n",
        "Estas fuenciones se pueden modificar para asignar distribuciones de conductividad y fuentes distintas"
      ],
      "metadata": {
        "id": "7YVArWQ9NPAL"
      }
    },
    {
      "cell_type": "code",
      "source": [
        "def fuente_nodal(N,valor):\n",
        "    \"\"\" Programe aqui el valor local de la fuente\"\"\"\n",
        "    S=np.full(N,valor)\n",
        "    return S\n",
        "def conductividad_nodal(N,valor):\n",
        "    \"\"\" Programe aqui el valor local de la fuente\"\"\"\n",
        "    k=np.full(N,valor)\n",
        "    return k\n",
        "kk=1\n",
        "SS=100\n",
        "k=conductividad_nodal(N,kk)\n",
        "print(\"k\",k)\n",
        "S=fuente_nodal(N,SS)\n",
        "print(\"S\",S)"
      ],
      "metadata": {
        "colab": {
          "base_uri": "https://localhost:8080/"
        },
        "id": "Ba0JVcUSO2kL",
        "outputId": "aabd5ce1-daf7-46c6-bc13-b8900f3d40ff"
      },
      "execution_count": null,
      "outputs": [
        {
          "output_type": "stream",
          "name": "stdout",
          "text": [
            "k [1 1 1 1 1 1 1 1 1 1 1]\n",
            "S [100 100 100 100 100 100 100 100 100 100 100]\n"
          ]
        }
      ]
    },
    {
      "cell_type": "markdown",
      "source": [
        "Crearemos un vector para la variable dependiente y definiremos las condiciones de borde"
      ],
      "metadata": {
        "id": "rrJeLysiPglz"
      }
    },
    {
      "cell_type": "code",
      "source": [
        "T=np.zeros(N)\n",
        "print(\"T\",T)\n",
        "\n",
        "# Condiciones de borde de Dirichlet T[0] es TB0 y T[N-1] es TBL\n",
        "T0 = 10.\n",
        "TL = 10.\n",
        "T[0]=T0\n",
        "T[N-1]=TL\n",
        "print(\"T\",T)"
      ],
      "metadata": {
        "colab": {
          "base_uri": "https://localhost:8080/"
        },
        "id": "39ECx5_QPrsn",
        "outputId": "5c684bec-fe2d-4b9a-ce17-e6330780a89f"
      },
      "execution_count": null,
      "outputs": [
        {
          "output_type": "stream",
          "name": "stdout",
          "text": [
            "T [0. 0. 0. 0. 0. 0. 0. 0. 0. 0. 0.]\n",
            "[10.  0.  0.  0.  0.  0.  0.  0.  0.  0. 10.]\n"
          ]
        }
      ]
    },
    {
      "cell_type": "markdown",
      "source": [
        "Hasta aqui todo bién. Hemos verificado que todos los vectores creados tengan el número de elementos  dispuesto, N, N=11 en este caso.\n",
        "Podemos plotear nuestra condición inicial"
      ],
      "metadata": {
        "id": "2rDFdIORQIf2"
      }
    },
    {
      "cell_type": "code",
      "source": [
        "plt.plot(x,T)"
      ],
      "metadata": {
        "colab": {
          "base_uri": "https://localhost:8080/",
          "height": 447
        },
        "id": "4XxWQjSuQncQ",
        "outputId": "cb330b83-a0b9-4a46-f9e1-635e3e24afe2"
      },
      "execution_count": null,
      "outputs": [
        {
          "output_type": "execute_result",
          "data": {
            "text/plain": [
              "[<matplotlib.lines.Line2D at 0x7f672bdfe260>]"
            ]
          },
          "metadata": {},
          "execution_count": 8
        },
        {
          "output_type": "display_data",
          "data": {
            "text/plain": [
              "<Figure size 640x480 with 1 Axes>"
            ],
            "image/png": "[encoded data removed]"
          },
          "metadata": {}
        }
      ]
    },
    {
      "cell_type": "code",
      "source": [],
      "metadata": {
        "id": "JMG_uzOZho9c"
      },
      "execution_count": null,
      "outputs": []
    },
    {
      "cell_type": "markdown",
      "source": [
        "Chequeamos visualmente que las condiciones de borde ocurren para x=0 y x=1, están en los valores adecuados. Los valores seteados para la variable dependiente en el interior del dominio están también en el valor especificado. Como las condiciones de borde son simétricas con respecto al centro del dominio de cálculo, la solución también deberá ser simétrica.\n",
        "\n",
        "Los problemas más obvios que hubieran podido ocurrir se han evitado.\n",
        "Estos problemas generalmente ocurren al indexar, por menos o por más los  vectores involucrados. Usualmente ocurre al acceder a los últimos elementos del vector.\n",
        "\n",
        "Podemos y debieramos chequear S y k, que en este caso deben dar dos constantes.\n",
        "Por último podemos  pasar a calcular los coeficientes de la matriz de discretización.\n"
      ],
      "metadata": {
        "id": "iwuvRKy6RNIv"
      }
    },
    {
      "cell_type": "code",
      "source": [
        "plt.plot(x,k, \"xb-\",  x,S,\"or-\")"
      ],
      "metadata": {
        "colab": {
          "base_uri": "https://localhost:8080/",
          "height": 465
        },
        "id": "K-oZBppKTEQ9",
        "outputId": "8411e5ec-2ada-4c35-c537-0fd312ce0ff2"
      },
      "execution_count": null,
      "outputs": [
        {
          "output_type": "execute_result",
          "data": {
            "text/plain": [
              "[<matplotlib.lines.Line2D at 0x7f672bb17e50>,\n",
              " <matplotlib.lines.Line2D at 0x7f672bb14370>]"
            ]
          },
          "metadata": {},
          "execution_count": 12
        },
        {
          "output_type": "display_data",
          "data": {
            "text/plain": [
              "<Figure size 640x480 with 1 Axes>"
            ],
            "image/png": "[encoded data removed]"
          },
          "metadata": {}
        }
      ]
    },
    {
      "cell_type": "markdown",
      "source": [
        "# Generación de la matriz de coeficientes.\n",
        "\\begin{equation}\n",
        "AT=b\n",
        "\\end{equation}\n",
        "La haremos en dos pasos,\n",
        "1) Sin tener en cuenta los bordes\n",
        "2) Modificando para tener en cuenta los bordes"
      ],
      "metadata": {
        "id": "LjHWVboUUSIV"
      }
    },
    {
      "cell_type": "code",
      "source": [
        "def coeficientes(N,dx,k,S,T):\n",
        "\n",
        "    '''\n",
        "    Genera las diagonales de la matriz de discretización y su correspondiente\n",
        "    término fuente   que resulta de de la discretización por diferencias finitas\n",
        "    de la ecuación de conducción de calor 1D con una fuente, con\n",
        "    condiciones de borde de Dirichlet.\n",
        "\n",
        "    Los coeficientes:\n",
        "    a: diagonal princial\n",
        "    b: diagonal superior\n",
        "    c: diaginal inferir\n",
        "    d: término independiente\n",
        "    Los coeficientes se calculan positivos.\n",
        "    Para respetar la regla de coeeficientes positivos de Patankar,\n",
        "    el signo que resulta en su forma matricial en el caso de DF,\n",
        "    se tiene en cuenta en la función tdm.\n",
        "\n",
        "    N numero total de nodos (desde la posición 0 a la posición N-1)\n",
        "    primer nodo (de borde) i=0\n",
        "    ultimo nodo (de borde) i=N-1\n",
        "    ultima ecuacion: i=N-2\n",
        "'''\n",
        "\n",
        "\n",
        "    #Calculo de la Matriz de Coeficientes\n",
        "    #Primera parte:  Coeficientes nodos 1 a N-2\n",
        "    a=np.zeros(N)\n",
        "    b=np.zeros(N)\n",
        "    c=np.zeros(N)\n",
        "    d=np.zeros(N)\n",
        "    dxdx=dx*dx\n",
        "    for i in range(1,N-1):\n",
        "      b[i] = 1.;\n",
        "      a[i] = 2.;\n",
        "      c[i] = 1.;\n",
        "      d[i] =  S[i] * dxdx/k[i]\n",
        "\n",
        "    return (a,b,c,d)\n",
        "\n",
        "a,b,c,d=coeficientes(N,dx,k,S,T)\n",
        "print(\"a\",a)\n",
        "print(\"b\",b)\n",
        "print(\"c\",c)\n",
        "print(\"d\",d)\n"
      ],
      "metadata": {
        "colab": {
          "base_uri": "https://localhost:8080/"
        },
        "id": "qktCFFgPUwOE",
        "outputId": "bf0db130-790b-4082-b862-aab04df86c61"
      },
      "execution_count": null,
      "outputs": [
        {
          "output_type": "stream",
          "name": "stdout",
          "text": [
            "a [0. 2. 2. 2. 2. 2. 2. 2. 2. 2. 0.]\n",
            "b [0. 1. 1. 1. 1. 1. 1. 1. 1. 1. 0.]\n",
            "c [0. 1. 1. 1. 1. 1. 1. 1. 1. 1. 0.]\n",
            "d [0. 1. 1. 1. 1. 1. 1. 1. 1. 1. 0.]\n"
          ]
        }
      ]
    },
    {
      "cell_type": "markdown",
      "source": [
        "Observe que para N nodos totales, solo se dben calcular los N-2 nodos internos, por esos los ceros antes y después de los valores distintos mostrados.\n",
        "Los valores del vector d contienen la información aportada por la fuente. Ahora  debemos modificarlos para incorporar las condiciones de borde."
      ],
      "metadata": {
        "id": "MGHG4zPYV0c4"
      }
    },
    {
      "cell_type": "code",
      "source": [
        "\n",
        "def bordesDirichlet(N,b,c,d,T):\n",
        "    #Segunda parte: introducción de las condiciones de borde\n",
        "    #En los nodos internos al lado de los bordes\n",
        "    d[1]   =  d[1] + c[1]*T[0] ;\n",
        "    d[N-2] =  d[N-2] + b[N-2]*T[N-1] ;\n",
        "\n",
        "    #Solo para la impresion final de la matriz tridiagonal\n",
        "    c[1]=0.\n",
        "    b[N-2]=0.\n",
        "    return (b,c,d)\n",
        "bordesDirichlet(N,b,c,d,T)\n",
        "print(\"a\",a)\n",
        "print(\"b\",b)\n",
        "print(\"c\",c)\n",
        "print(\"d\",d)\n"
      ],
      "metadata": {
        "colab": {
          "base_uri": "https://localhost:8080/"
        },
        "id": "MBSanTzCWptL",
        "outputId": "11117704-cd4b-461c-8106-833de86398bc"
      },
      "execution_count": null,
      "outputs": [
        {
          "output_type": "stream",
          "name": "stdout",
          "text": [
            "a [0. 2. 2. 2. 2. 2. 2. 2. 2. 2. 0.]\n",
            "b [0. 1. 1. 1. 1. 1. 1. 1. 1. 0. 0.]\n",
            "c [0. 0. 1. 1. 1. 1. 1. 1. 1. 1. 0.]\n",
            "d [ 0. 11.  1.  1.  1.  1.  1.  1.  1. 11.  0.]\n"
          ]
        }
      ]
    },
    {
      "cell_type": "markdown",
      "source": [
        "Tal vez es más facil de verlo en columnas"
      ],
      "metadata": {
        "id": "OaDJrq7yXSlL"
      }
    },
    {
      "cell_type": "code",
      "source": [
        "print(\"N=\",N)\n",
        "print(\"Coeficientes despues de CB\")\n",
        "print(\"c  \",\"a  \",\"b  \",\"d  \",\"S  \",\"T\")\n",
        "for i in range(N):\n",
        "    print(c[i],a[i],b[i],d[i],S[i],T[i])\n"
      ],
      "metadata": {
        "colab": {
          "base_uri": "https://localhost:8080/"
        },
        "id": "LMLh2kyvXDIi",
        "outputId": "288a66c4-bdf9-4656-f060-ea9512418f9f"
      },
      "execution_count": 33,
      "outputs": [
        {
          "output_type": "stream",
          "name": "stdout",
          "text": [
            "N= 11\n",
            "Coeficientes despues de CB\n",
            "c   a   b   d   S   T\n",
            "0.0 0.0 0.0 0.0 100 10.0\n",
            "0.0 2.0 1.0 11.0 100 0.0\n",
            "1.0 2.0 1.0 1.0000000000000002 100 0.0\n",
            "1.0 2.0 1.0 1.0000000000000002 100 0.0\n",
            "1.0 2.0 1.0 1.0000000000000002 100 0.0\n",
            "1.0 2.0 1.0 1.0000000000000002 100 0.0\n",
            "1.0 2.0 1.0 1.0000000000000002 100 0.0\n",
            "1.0 2.0 1.0 1.0000000000000002 100 0.0\n",
            "1.0 2.0 1.0 1.0000000000000002 100 0.0\n",
            "1.0 2.0 0.0 11.0 100 0.0\n",
            "0.0 0.0 0.0 0.0 100 10.0\n"
          ]
        }
      ]
    },
    {
      "cell_type": "code",
      "source": [
        "  print(\"N=\",N)\n",
        "  print(\"Coeficientes después de CB\")\n",
        "  print('{}    {}      {}   {}    {}     {}     {}'.format(\"i\" , \"c  \",\"a  \",\"b  \",\"d  \",\"S  \",\"T\"))\n",
        "  for i in range(N):\n",
        "      print('{}   {:2.2f}   {:2.2f}  {:2.2f}   {:4.2f}   {:3.2f}   {:3.2f}'.format(i, c[i],a[i],b[i],d[i],S[i],T[i]))\n"
      ],
      "metadata": {
        "colab": {
          "base_uri": "https://localhost:8080/"
        },
        "id": "HpBomb3saA_G",
        "outputId": "1f1684ed-11a1-4246-b29c-f2c7bd5066ab"
      },
      "execution_count": 34,
      "outputs": [
        {
          "output_type": "stream",
          "name": "stdout",
          "text": [
            "N= 11\n",
            "Coeficientes despues de CB\n",
            "i    c        a     b      d       S       T\n",
            "0   0.00   0.00  0.00   0.00   100.00   10.00\n",
            "1   0.00   2.00  1.00   11.00   100.00   0.00\n",
            "2   1.00   2.00  1.00   1.00   100.00   0.00\n",
            "3   1.00   2.00  1.00   1.00   100.00   0.00\n",
            "4   1.00   2.00  1.00   1.00   100.00   0.00\n",
            "5   1.00   2.00  1.00   1.00   100.00   0.00\n",
            "6   1.00   2.00  1.00   1.00   100.00   0.00\n",
            "7   1.00   2.00  1.00   1.00   100.00   0.00\n",
            "8   1.00   2.00  1.00   1.00   100.00   0.00\n",
            "9   1.00   2.00  0.00   11.00   100.00   0.00\n",
            "10   0.00   0.00  0.00   0.00   100.00   10.00\n"
          ]
        }
      ]
    },
    {
      "cell_type": "markdown",
      "source": [
        "Verifique que entiende bien la estructura de estos vectores, principalmente los vectors c,a,b y d. Por qué el primero y último de los elemntos de los vectores a,b,c,y d son cero? Porqué aparecen dos ceros al comienzo de c, o dos ceros al final de b.\n",
        "Por que  la suma de los elementos de c y b deben dar a.\n",
        "Evalúe a mano y compruebe el valor de d para d[1) y d[N-2].\n",
        "Considere por qué el primer y último elemnto  de S está valuado como los demás. ¿Tiene importancia?"
      ],
      "metadata": {
        "id": "uxhg4C0Ed4Zc"
      }
    },
    {
      "cell_type": "markdown",
      "source": [
        "Resolución.\n",
        "Para resolver necesitamos un solver. Este es la función tdm  acontinuación."
      ],
      "metadata": {
        "id": "BaqqxMs6gEFX"
      }
    },
    {
      "cell_type": "code",
      "source": [
        "def tdm(N, a, b, c, d, u):\n",
        "    '''Algortitmo de Thomas.\n",
        "     Todos los coeficientes entrados positivos,\n",
        "     notación de Patankar:\n",
        "     ap u_i = ae u_i+1 + ao u_i-1 + b\n",
        "     N= numero de ecuaciones\n",
        "     tdm(N, ap, ae, ao, b, u)\n",
        "     resultados desde u(1) a u(N)\n",
        "     condiciones de borde: en u(0) y u(N+1)'''\n",
        "\n",
        "    p=np.zeros(N+2)\n",
        "    q=np.zeros(N+2)\n",
        "\n",
        "    p[1] = b[1] / a[1]\n",
        "    q[1] = d[1] / a[1]\n",
        "    for i in range(2,N+1):\n",
        "        p[i] = b[i] / (a[i] - c[i] * p[i-1])\n",
        "        q[i] = (d[i] + c[i] * q[i-1]) / (a[i] - c[i] * p[i-1])\n",
        "\n",
        "    u[N] = q[N]\n",
        "    for i in range(N-1,0,-1):\n",
        "        u[i] = p[i] * u[i+1] + q[i]\n",
        "    return (u)\n"
      ],
      "metadata": {
        "id": "2M2xdhuygiww"
      },
      "execution_count": 35,
      "outputs": []
    },
    {
      "cell_type": "markdown",
      "source": [
        "Llamamos a la función tdm. El primer argumento se refiere al número de ecuaciones que corresponden al número  de nodos internos."
      ],
      "metadata": {
        "id": "QLZyW9mIg33Y"
      }
    },
    {
      "cell_type": "code",
      "source": [
        "T=tdm(N-2, a, b, c, d, T)\n",
        "print(\"T\",T)"
      ],
      "metadata": {
        "colab": {
          "base_uri": "https://localhost:8080/"
        },
        "id": "bjtfrAengl1q",
        "outputId": "5bb9724e-1207-469f-8ad8-4497dfc6bacc"
      },
      "execution_count": 36,
      "outputs": [
        {
          "output_type": "stream",
          "name": "stdout",
          "text": [
            "T [10.  14.5 18.  20.5 22.  22.5 22.  20.5 18.  14.5 10. ]\n"
          ]
        }
      ]
    },
    {
      "cell_type": "markdown",
      "source": [
        "Observer y verifique que en los extremos se cumplen las condiciones de borde y que el vector es simétrico.\n",
        "Si no lo fuera habría que sospechar algun problema.\n",
        "Ahora podemos plotear la solución."
      ],
      "metadata": {
        "id": "pzDv4Sk2hKkm"
      }
    },
    {
      "cell_type": "code",
      "source": [
        "plt.plot(x,T, \"ob-\")"
      ],
      "metadata": {
        "colab": {
          "base_uri": "https://localhost:8080/",
          "height": 447
        },
        "id": "IHP0_3iAhy_P",
        "outputId": "402a3679-d657-4ab3-aab9-509e4969b822"
      },
      "execution_count": 38,
      "outputs": [
        {
          "output_type": "execute_result",
          "data": {
            "text/plain": [
              "[<matplotlib.lines.Line2D at 0x7f671be107f0>]"
            ]
          },
          "metadata": {},
          "execution_count": 38
        },
        {
          "output_type": "display_data",
          "data": {
            "text/plain": [
              "<Figure size 640x480 with 1 Axes>"
            ],
            "image/png": "[encoded data removed]"
          },
          "metadata": {}
        }
      ]
    },
    {
      "cell_type": "markdown",
      "source": [
        "Nuevamente chequamos el cumplimeinto de las condiciones de borde y la simetría del problema. Vemos que el valor máximo ocurre para el centro del dominio de cálculo."
      ],
      "metadata": {
        "id": "HLxsup8bh-aU"
      }
    },
    {
      "cell_type": "code",
      "source": [
        "\n",
        "def sol_analitica(xx,SS,L,T0,TL,kk):\n",
        "  return T0 + (TL-T0)*xx/L + SS*L*L*(xx/L -xx*xx/(L*L))/(2*kk)\n",
        "\n",
        "print(SS,L,T0,TL,kk)\n",
        "print(sol_analitica(0,SS,L,T0,TL,kk))\n",
        "\n"
      ],
      "metadata": {
        "colab": {
          "base_uri": "https://localhost:8080/"
        },
        "id": "7K7nnr5kif9A",
        "outputId": "77fdafe2-3ce0-486e-81f2-52cb4017c649"
      },
      "execution_count": 55,
      "outputs": [
        {
          "output_type": "stream",
          "name": "stdout",
          "text": [
            "100 1 10.0 10.0 1\n",
            "10.0\n"
          ]
        }
      ]
    },
    {
      "cell_type": "code",
      "source": [
        "Ta=np.zeros(N)\n",
        "for i in range(N):\n",
        "  Ta[i]=sol_analitica(x[i],SS,L,T0,TL,kk)\n",
        "print(x)\n",
        "print(T)\n",
        "print(Ta)\n"
      ],
      "metadata": {
        "colab": {
          "base_uri": "https://localhost:8080/"
        },
        "id": "6RVciCdPnbb0",
        "outputId": "f5138699-f63c-4ee0-e63d-a48c8f88860b"
      },
      "execution_count": 58,
      "outputs": [
        {
          "output_type": "stream",
          "name": "stdout",
          "text": [
            "[0.0, 0.1, 0.2, 0.30000000000000004, 0.4, 0.5, 0.6000000000000001, 0.7000000000000001, 0.8, 0.9, 1.0]\n",
            "[10.  14.5 18.  20.5 22.  22.5 22.  20.5 18.  14.5 10. ]\n",
            "[10.  14.5 18.  20.5 22.  22.5 22.  20.5 18.  14.5 10. ]\n"
          ]
        }
      ]
    },
    {
      "cell_type": "code",
      "source": [
        "plt.plot(x,T,\"ob\",x,Ta,\"g-\")"
      ],
      "metadata": {
        "colab": {
          "base_uri": "https://localhost:8080/",
          "height": 465
        },
        "id": "XWItANBqnt3-",
        "outputId": "af7cc9af-a976-49e1-ea45-88b1374b0ea8"
      },
      "execution_count": 59,
      "outputs": [
        {
          "output_type": "execute_result",
          "data": {
            "text/plain": [
              "[<matplotlib.lines.Line2D at 0x7f671bc35b10>,\n",
              " <matplotlib.lines.Line2D at 0x7f671bc35ba0>]"
            ]
          },
          "metadata": {},
          "execution_count": 59
        },
        {
          "output_type": "display_data",
          "data": {
            "text/plain": [
              "<Figure size 640x480 with 1 Axes>"
            ],
            "image/png": "[encoded data removed]"
          },
          "metadata": {}
        }
      ]
    }
  ]
}